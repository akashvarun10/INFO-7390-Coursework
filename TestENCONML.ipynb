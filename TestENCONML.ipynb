{
 "cells": [
  {
   "cell_type": "code",
   "execution_count": 1,
   "id": "25d88c7b-4df5-4562-a501-e60ce188986d",
   "metadata": {},
   "outputs": [
    {
     "ename": "ModuleNotFoundError",
     "evalue": "No module named 'econml'",
     "output_type": "error",
     "traceback": [
      "\u001b[0;31m---------------------------------------------------------------------------\u001b[0m",
      "\u001b[0;31mModuleNotFoundError\u001b[0m                       Traceback (most recent call last)",
      "Input \u001b[0;32mIn [1]\u001b[0m, in \u001b[0;36m<cell line: 1>\u001b[0;34m()\u001b[0m\n\u001b[0;32m----> 1\u001b[0m \u001b[38;5;28;01mfrom\u001b[39;00m \u001b[38;5;21;01meconml\u001b[39;00m\u001b[38;5;21;01m.\u001b[39;00m\u001b[38;5;21;01mdml\u001b[39;00m \u001b[38;5;28;01mimport\u001b[39;00m LinearDML\n\u001b[1;32m      2\u001b[0m \u001b[38;5;66;03m# Use defaults\u001b[39;00m\n\u001b[1;32m      3\u001b[0m est \u001b[38;5;241m=\u001b[39m LinearDML()\n",
      "\u001b[0;31mModuleNotFoundError\u001b[0m: No module named 'econml'"
     ]
    }
   ],
   "source": [
    "from econml.dml import LinearDML\n",
    "# Use defaults\n",
    "est = LinearDML()\n",
    "est.fit(Y, T, X=X, W=W)\n",
    "# Get the effect inference summary, which includes the standard error, z test score, p value, and confidence interval given each sample X[i]\n",
    "est.effect_inference(X_test).summary_frame(alpha=0.05, value=0, decimals=3)\n",
    "# Get the population summary for the entire sample X\n",
    "est.effect_inference(X_test).population_summary(alpha=0.1, value=0, decimals=3, tol=0.001)\n",
    "#  Get the parameter inference summary for the final model\n",
    "est.summary()"
   ]
  },
  {
   "cell_type": "code",
   "execution_count": null,
   "id": "3cf07ee7-4898-495c-964c-89bf52ef7bdb",
   "metadata": {},
   "outputs": [],
   "source": []
  }
 ],
 "metadata": {
  "kernelspec": {
   "display_name": "Python 3 (ipykernel)",
   "language": "python",
   "name": "python3"
  },
  "language_info": {
   "codemirror_mode": {
    "name": "ipython",
    "version": 3
   },
   "file_extension": ".py",
   "mimetype": "text/x-python",
   "name": "python",
   "nbconvert_exporter": "python",
   "pygments_lexer": "ipython3",
   "version": "3.9.10"
  }
 },
 "nbformat": 4,
 "nbformat_minor": 5
}
