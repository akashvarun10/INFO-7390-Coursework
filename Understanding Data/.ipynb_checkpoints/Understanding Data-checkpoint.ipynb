{
 "cells": [
  {
   "cell_type": "markdown",
   "metadata": {},
   "source": [
    "#INFO-7390 --- Venkat Akash Varun Pemmaraju"
   ]
  },
  {
   "cell_type": "markdown",
   "metadata": {},
   "source": [
    "## Understanding Data \n",
    "\n",
    "#### Data refers to raw facts, observations, measurements, or symbols that are typically collected and stored in a structured or unstructured format. \n",
    "\n",
    "#### Data can be virtually anything that can be recorded or observed, including text, numbers, images, sounds, and more.\n",
    "\n",
    "\n",
    "\n",
    "<div style=\"text-align:center\">\n",
    "    <img src=\"https://visualstudiomagazine.com/-/media/ECG/visualstudiomagazine/Images/introimages/BigData.jpg\" alt=\"Image Alt Text\" width=\"500\"/>\n",
    "</div>\n",
    "\n",
    "\n",
    "\n",
    "## Types of Data\n",
    "\n",
    "<div style=\"text-align:center\">\n",
    "    <img src=\"https://intellspot.com/wp-content/uploads/2018/08/Types-of-Data-Infographic.png\" alt=\"Image Alt Text\" width=\"500\"/>\n",
    "</div>\n",
    "\n",
    "\n",
    "#### We all know by now that data comes in various forms, here are some them : "
   ]
  },
  {
   "cell_type": "markdown",
   "metadata": {},
   "source": [
    "#### Numerical Data: Quantitative data representing values or counts. For example : Age of individuals in a survey.[ age, temperature, or salary]."
   ]
  },
  {
   "cell_type": "code",
   "execution_count": 4,
   "metadata": {},
   "outputs": [],
   "source": [
    "# Numerical Data\n",
    "age = [25, 30, 22, 35, 28]\n",
    "temperature = 23.5\n",
    "salary = [50000, 60000, 55000, 70000]"
   ]
  },
  {
   "cell_type": "markdown",
   "metadata": {},
   "source": [
    "#### Discrete: Integer-based, like the number of students in a class.For example : Number of cars in a parking lot.\n"
   ]
  },
  {
   "cell_type": "code",
   "execution_count": 5,
   "metadata": {},
   "outputs": [],
   "source": [
    "# Discrete Data\n",
    "number_of_students = 40\n",
    "number_of_cars = [50, 30, 20, 10]\n"
   ]
  },
  {
   "cell_type": "markdown",
   "metadata": {},
   "source": [
    "#### Continuous: Any value within a range, For example the height of students."
   ]
  },
  {
   "cell_type": "code",
   "execution_count": 6,
   "metadata": {},
   "outputs": [],
   "source": [
    "# Continuous Data\n",
    "height_of_students = 175.2\n"
   ]
  },
  {
   "cell_type": "markdown",
   "metadata": {},
   "source": [
    "#### Categorical Data: Qualitative data representing categories or groups. For example, types of cuisine, blood groups, or movie genres.\n"
   ]
  },
  {
   "cell_type": "code",
   "execution_count": 7,
   "metadata": {},
   "outputs": [],
   "source": [
    "# Categorical Data\n",
    "cuisine_types = [\"Italian\", \"Mexican\", \"Chinese\"]\n",
    "blood_groups = [\"A\", \"B\", \"AB\", \"O\"]\n",
    "movie_genres = [\"Action\", \"Comedy\", \"Drama\", \"Sci-Fi\"]\n"
   ]
  },
  {
   "cell_type": "markdown",
   "metadata": {},
   "source": [
    "#### Nominal: No inherent order, For example different types of fruits."
   ]
  },
  {
   "cell_type": "code",
   "execution_count": 8,
   "metadata": {},
   "outputs": [],
   "source": [
    "# Nominal Data\n",
    "fruit_types = [\"Apple\", \"Banana\", \"Orange\"]\n"
   ]
  },
  {
   "cell_type": "markdown",
   "metadata": {},
   "source": [
    "#### Ordinal: Has a logical order, For example rankings in a competition."
   ]
  },
  {
   "cell_type": "code",
   "execution_count": 13,
   "metadata": {},
   "outputs": [
    {
     "name": "stdout",
     "output_type": "stream",
     "text": [
      "['1st', '2nd', '3rd', '4th']\n"
     ]
    }
   ],
   "source": [
    "# Ordinal Data\n",
    "competition_rankings = [\"1st\", \"2nd\", \"3rd\", \"4th\"]\n",
    "print(competition_rankings)\n"
   ]
  },
  {
   "cell_type": "markdown",
   "metadata": {},
   "source": [
    "#### Time-Series Data: Data points indexed in time order, often used in forecasting. For example, stock market prices over time or daily temperatures.\n"
   ]
  },
  {
   "cell_type": "code",
   "execution_count": 11,
   "metadata": {},
   "outputs": [
    {
     "name": "stdout",
     "output_type": "stream",
     "text": [
      "2022-01-01    100\n",
      "2022-01-02    110\n",
      "2022-01-03     95\n",
      "2022-01-04    105\n",
      "Freq: D, dtype: int64\n"
     ]
    }
   ],
   "source": [
    "# Time-Series Data\n",
    "import pandas as pd\n",
    "import datetime\n",
    "\n",
    "stock_prices = pd.Series([100, 110, 95, 105], index=pd.date_range(start=\"2022-01-01\", periods=4, freq=\"D\"))\n",
    "print(stock_prices)"
   ]
  },
  {
   "cell_type": "markdown",
   "metadata": {},
   "source": [
    "#### Text Data: Data in text format. Analyzing it often involves Natural Language Processing (NLP). For example, tweets or product reviews."
   ]
  },
  {
   "cell_type": "code",
   "execution_count": 21,
   "metadata": {},
   "outputs": [
    {
     "name": "stdout",
     "output_type": "stream",
     "text": [
      "This is a sample text for natural language processing (NLP).\n"
     ]
    }
   ],
   "source": [
    "# Text Data\n",
    "text_data = \"This is a sample text for natural language processing (NLP).\"\n",
    "\n",
    "# Display Text\n",
    "print(text_data)\n"
   ]
  },
  {
   "cell_type": "markdown",
   "metadata": {},
   "source": [
    "#### Multimedia Data: Includes images, audio, and video data, often used in advanced fields like computer vision and speech recognition.\n"
   ]
  },
  {
   "cell_type": "code",
   "execution_count": 25,
   "metadata": {},
   "outputs": [
    {
     "data": {
      "text/html": [
       "<img src=\"https://share-eric.eu/fileadmin/_processed_/b/5/csm_dataheader_ec9ee966be.jpg\"/>"
      ],
      "text/plain": [
       "<IPython.core.display.Image object>"
      ]
     },
     "metadata": {},
     "output_type": "display_data"
    }
   ],
   "source": [
    "# Multimedia Data\n",
    "# Note: In practice, handling multimedia data involves more complex code and libraries specific to each data type (e.g., image processing libraries for images).\n",
    "from IPython.display import Image, display\n",
    "image_data_url = \"https://share-eric.eu/fileadmin/_processed_/b/5/csm_dataheader_ec9ee966be.jpg\"\n",
    "# Display Image\n",
    "display(Image(url=image_data_url))"
   ]
  },
  {
   "cell_type": "markdown",
   "metadata": {},
   "source": [
    "#### GPS/Geographic/Spatial Data: It refers to data that is associated with geographic locations or positions on the Earth's surface. It includes coordinates, maps, satellite images, and geographical information system (GIS) data. For Example: Coordinates of locations on a map.\n"
   ]
  },
  {
   "cell_type": "code",
   "execution_count": 20,
   "metadata": {},
   "outputs": [],
   "source": [
    "# GPS/Geographic/Spatial Data\n",
    "# Note: Coordinates are for illustration, actual data would involve more complex structures.\n",
    "latitude, longitude = 37.7749, -122.4194\n"
   ]
  },
  {
   "cell_type": "markdown",
   "metadata": {},
   "source": [
    "### What is Data Quality? Why is it important ?\n",
    "\n",
    "Data Quality refers to the accuracy, completeness, reliability, and consistency of data. It is crucial because reliable data forms the foundation for effective decision-making, analysis, and business operations. Poor data quality can lead to errors, misinformation, and misguided decisions. \n",
    "\n",
    "#### Here are some examples : \n",
    "\n",
    "1. If including Michael Jordan's basketball earnings in a dataset of average school degree statistics distorts the analysis, you might choose to exclude it for a more accurate representation of typical salaries among degree holders.\n",
    "\n",
    "2. When preparing a dataset for sentiment analysis, data cleaning includes identifying and eliminating duplicate user reviews to prevent bias and ensure a more balanced representation of opinions.\n",
    "\n",
    "3.  if a company's customer database contains outdated or incorrect contact information, it may result in failed communication attempts and a loss of potential business opportunities.\n",
    "\n",
    "<div style=\"text-align:center\">\n",
    "    <img src=\"https://4.bp.blogspot.com/-RmYtKB4gaOk/XCTBC_G-A-I/AAAAAAAAAFw/GegTV8LJGFkrs75v86wEuXSjmirWW3T8gCLcBGAs/s1600/Data%2BQuality%2Bin%2Bhindi.png\" alt=\"Image Alt Text\" width=\"500\"/>\n",
    "</div>"
   ]
  },
  {
   "cell_type": "markdown",
   "metadata": {},
   "source": [
    "#### How can Assess Quality of our Data ?\n",
    "\n",
    "#### What is Data Cleaning ?\n",
    "Data Cleaning is the process of identifying and correcting errors, inconsistencies, inaccuracies, and missing values in a dataset to improve its quality and reliability. It is a crucial step in the data preparation phase before using the data for analysis or machine learning.\n",
    "\n",
    "Data cleaning aims to enhance data quality through error identification and correction, ensuring consistency, completeness, accuracy, and uniformity. It involves handling missing values, removing duplicates, addressing outliers, formatting data, and maintaining documentation. Iterative and requiring domain knowledge, data cleaning is crucial for accurate analysis and reliable machine learning outcomes, ensuring the dataset is suitable for its intended purpose.\n",
    "\n",
    "#### Let me give some examples why Data Cleaning is Important\n",
    "### Consistency :\n",
    "Converting timestamps to a standardized format (e.g., YYYY-DD-MM YYYY-MM-DD ) in a dataset for consistency and ease of analysis.\n",
    "\n",
    "#### Example :\n",
    "Original timestamp: \"2023-01-15 08:30:45\" Standardized formats:\n",
    "\n",
    "YYYY-DD-MM: \"2023-15-01\"\n",
    "\n",
    "YYYY-MM-DD: \"2023-01-15\"\n",
    "\n",
    "### Outliers :\n",
    "Deciding whether to exclude extreme values in a dataset measuring employee salaries to prevent distortion in average salary calculations.\n",
    "\n",
    "#### Example :\n",
    "If including Michael Jordan's basketball earnings in a dataset of average school degree statistics distorts the analysis, you might choose to exclude it for a more accurate representation of typical salaries among degree holders.\n",
    "\n",
    "### Removing Duplicates\n",
    "It includes identifying and eliminating duplicate records or entries to prevent distortion of analysis results and modeling outcomes.\n",
    "\n",
    "#### Example :\n",
    "When preparing a dataset for sentiment analysis, data cleaning includes identifying and eliminating duplicate user reviews to prevent bias and ensure a more balanced representation of opinions.\n",
    "\n",
    "### Accuracy\n",
    "It involves verifying the accuracy of data by cross-referencing it with reliable sources or validating it against known standards and rules.\n",
    "\n",
    "#### Example\n",
    "Validating sales figures against financial statements to ensure accuracy and reliability in business performance analyses.\n",
    "\n",
    "### Treating Missing Values\n",
    "Imputation is a statistical approach to fill in missing data by estimating values based on the available information, ensuring a more complete dataset for analysis or modeling\n",
    "\n",
    "#### Example\n",
    "Let's consider a dataset of ages with missing values:\n",
    "\n",
    "Original Data: [25, 30, NaN, 22, 28, NaN, 35]\n",
    "\n",
    "For continuous data (ages), you might choose to impute with the mean:\n",
    "\n",
    "Imputed Data (mean): [25, 30, 28.33, 22, 28, 28.33, 35]\n",
    "\n",
    "Here, NaN values are replaced with the mean age of the available data.\n",
    "\n",
    "### EDA\n",
    "Exploratory Data Analysis (EDA) is crucial in data cleaning as it helps identify anomalies, patterns, and outliers, guiding the cleaning process for more accurate insights\n",
    "\n",
    "#### Example\n",
    "While visualizing a histogram of a dataset may reveal unexpected spikes or gaps, prompting further investigation and cleaning of potentially erroneous data points.\n",
    "\n",
    "### Normalization:\n",
    "Normalization is used in data cleaning to scale numerical features, ensuring consistent ranges and preventing dominance of certain variables in models.\n",
    "\n",
    "#### Example\n",
    "normalizing income and age values to a common scale (e.g., between 0 and 1) helps avoid biased influence in machine learning algorithms.\n",
    "\n",
    "### Encoding:\n",
    "Encoding is applied in data cleaning to convert categorical variables into a numerical format suitable for analysis or modeling.\n",
    "\n",
    "#### Example\n",
    " Encoding \"Red,\" \"Green,\" and \"Blue\" as 1, 2, and 3 allows algorithms to process color categories effectively during data analysis or machine learning tasks.\n"
   ]
  },
  {
   "cell_type": "code",
   "execution_count": null,
   "metadata": {},
   "outputs": [],
   "source": []
  }
 ],
 "metadata": {
  "kernelspec": {
   "display_name": "Python 3 (ipykernel)",
   "language": "python",
   "name": "python3"
  },
  "language_info": {
   "codemirror_mode": {
    "name": "ipython",
    "version": 3
   },
   "file_extension": ".py",
   "mimetype": "text/x-python",
   "name": "python",
   "nbconvert_exporter": "python",
   "pygments_lexer": "ipython3",
   "version": "3.9.10"
  }
 },
 "nbformat": 4,
 "nbformat_minor": 2
}
