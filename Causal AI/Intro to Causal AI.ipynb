{
 "cells": [
  {
   "cell_type": "code",
   "execution_count": 2,
   "id": "64d47653-7c70-4b0c-b19b-076525a1a2c2",
   "metadata": {},
   "outputs": [],
   "source": [
    "import warnings \n",
    "warnings.filterwarnings(\"ignore\")"
   ]
  },
  {
   "cell_type": "code",
   "execution_count": 3,
   "id": "87511c52-afb2-4ec7-aad2-d01f7a7ea788",
   "metadata": {},
   "outputs": [],
   "source": [
    "import numpy as np\n",
    "from sklearn.ensemble import RandomForestRegressor, RandomForestClassifier\n",
    "from sklearn.linear_model import LassoCV, Lasso\n",
    "from sklearn.preprocessing import PolynomialFeatures\n",
    "from sklearn.model_selection import train_test_split\n",
    "import matplotlib.pyplot as plt\n",
    "import scipy\n",
    "import warnings\n",
    "warnings.simplefilter('ignore')"
   ]
  },
  {
   "cell_type": "code",
   "execution_count": 4,
   "id": "ea3811aa-fe65-471a-8410-d39d438b9ce2",
   "metadata": {},
   "outputs": [],
   "source": [
    "def gen_data(n, discrete=False):\n",
    "    X = np.random.normal(0, 1, size=(n, 2))\n",
    "    W = np.random.normal(0, 1, size=(n, 2))\n",
    "    if discrete:\n",
    "        T = np.random.binomial(1, scipy.special.expit(W[:, 0]))\n",
    "    else:\n",
    "        T = W[:, 0] + np.random.normal(0, 1, size=(n,))\n",
    "    y = (X[:, 0] + 1) * T + W[:, 0] + np.random.normal(0, 1, size=(n,))\n",
    "    return y, T, X, W\n",
    "\n",
    "def gen_data_iv(n):\n",
    "    X = np.random.normal(0, 1, size=(n, 2))\n",
    "    W = np.random.normal(0, 1, size=(n, 2))\n",
    "    U = np.random.normal(0, 1, size=(n,))\n",
    "    Z = np.random.normal(0, 1, size=(n,))\n",
    "    T = Z + W[:, 0] + U\n",
    "    y = (X[:, 0] + 1) * T + W[:, 0] + U\n",
    "    return y, T, Z, X, W"
   ]
  },
  {
   "cell_type": "code",
   "execution_count": 5,
   "id": "0f9239c7-5e5e-48e9-bdc0-614c13a526a0",
   "metadata": {},
   "outputs": [],
   "source": [
    "y, T, X, W = gen_data(1000)\n"
   ]
  },
  {
   "cell_type": "code",
   "execution_count": 6,
   "id": "658f1c57-a171-4050-ad20-bf9d50588560",
   "metadata": {},
   "outputs": [
    {
     "data": {
      "text/plain": [
       "<econml.dml.dml.NonParamDML at 0x16dbcd000>"
      ]
     },
     "execution_count": 6,
     "metadata": {},
     "output_type": "execute_result"
    }
   ],
   "source": [
    "from econml.dml import NonParamDML\n",
    "\n",
    "est = NonParamDML(model_y=RandomForestRegressor(), # Any ML model for E[Y|X,W]\n",
    "                  model_t=RandomForestRegressor(), # Any ML model for E[T|X,W]\n",
    "                  model_final=RandomForestRegressor(max_depth=2), # Any ML model for CATE\n",
    "                  discrete_treatment=False, # categorical or continuous treatment\n",
    "                  cv=2, # number of crossfit folds\n",
    "                  mc_iters=1) # repetitions of cross-fitting for stability\n",
    "\n",
    "est.fit(y, T, X=X, W=W, cache_values=True) "
   ]
  },
  {
   "cell_type": "code",
   "execution_count": 1,
   "id": "ff1850ac-2b82-4ca0-bea4-4c2270b6138e",
   "metadata": {},
   "outputs": [],
   "source": [
    "from causalinference import CausalModel\n",
    "from causalinference.utils import random_data\n",
    "Y, D, X = random_data()\n",
    "causal = CausalModel(Y, D, X)"
   ]
  }
 ],
 "metadata": {
  "kernelspec": {
   "display_name": "Python 3 (ipykernel)",
   "language": "python",
   "name": "python3"
  },
  "language_info": {
   "codemirror_mode": {
    "name": "ipython",
    "version": 3
   },
   "file_extension": ".py",
   "mimetype": "text/x-python",
   "name": "python",
   "nbconvert_exporter": "python",
   "pygments_lexer": "ipython3",
   "version": "3.10.13"
  }
 },
 "nbformat": 4,
 "nbformat_minor": 5
}
