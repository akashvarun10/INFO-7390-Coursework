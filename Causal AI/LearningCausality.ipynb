{
 "cells": [
  {
   "cell_type": "markdown",
   "metadata": {},
   "source": [
    "### Crash Course in Causality"
   ]
  },
  {
   "cell_type": "markdown",
   "metadata": {},
   "source": [
    "### Concepts To Know Prior to learning Causal ML\n",
    "\n",
    "**Causality**: Understanding cause-and-effect relationships and distinguishing between correlation and causation.\n",
    "\n",
    "**Machine Learning (ML)**: Techniques and algorithms that enable computers to learn from data and make predictions or decisions without being explicitly programmed.\n",
    "\n",
    "**Observational Data**: Data collected from real-world observations or studies where treatments or interventions are not randomly assigned.\n",
    "\n",
    "**Counterfactuals**: Hypothetical outcomes that represent what would have happened under different treatment conditions, essential for estimating causal effects.\n",
    "\n",
    "**Confounding**: When the observed association between a treatment and an outcome is influenced by a third variable, leading to biased estimates of causal effects if not properly accounted for."
   ]
  },
  {
   "cell_type": "markdown",
   "metadata": {},
   "source": [
    "### What is Causal ML? \n",
    "\n",
    "**Causal machine learning** (Causal ML) is a field that combines elements of **causal inference and machine learning** to estimate **causal effects** from observational data. Traditional machine learning methods focus on prediction tasks, such as classification and regression, without explicitly considering causal relationships between variables. In contrast, **causal ML** aims to go beyond prediction by identifying and estimating the **causal effects** of **interventions or treatments on outcomes of interest**."
   ]
  },
  {
   "cell_type": "markdown",
   "metadata": {},
   "source": [
    "### Causal Inference \n",
    "\n",
    "Let's now learn about **Causal Inference**\n",
    "\n",
    "**Causal inference** is the process of drawing conclusions about **cause-and-effect relationships** between variables based on observed data. It involves determining whether changes in one variable directly lead to changes in another variable, beyond mere correlation.\n",
    "\n",
    "#### Key aspects of causal inference include:\n",
    "\n",
    "**Identification of Causal Effects**: Determining which variables are causes and which are effects, and estimating the magnitude and direction of the causal relationships.\n",
    "\n",
    "**Control of Confounding**: Addressing confounding variables that may distort the observed association between the variables of interest.\n",
    "\n",
    "**Counterfactual Reasoning**: Considering what would have happened under different conditions or interventions to estimate causal effects.\n",
    "\n",
    "**Causal Mechanisms**: Understanding the underlying mechanisms through which causal effects occur.\n",
    "\n",
    "\n",
    "**Causal inference** methods include **randomized controlled trials** (RCTs) in experimental settings, as well as observational studies, structural equation modeling, and causal graphical models in observational settings. The goal of causal inference is to provide **reliable and actionable insights into the effects of interventions or policies on outcomes of interest, aiding decision-making** in various fields such as healthcare, economics, and social sciences."
   ]
  },
  {
   "cell_type": "markdown",
   "metadata": {},
   "source": [
    "\n",
    "\n"
   ]
  },
  {
   "cell_type": "code",
   "execution_count": null,
   "metadata": {},
   "outputs": [],
   "source": []
  }
 ],
 "metadata": {
  "kernelspec": {
   "display_name": "CausalAI",
   "language": "python",
   "name": "python3"
  },
  "language_info": {
   "name": "python",
   "version": "3.10.13"
  }
 },
 "nbformat": 4,
 "nbformat_minor": 2
}
